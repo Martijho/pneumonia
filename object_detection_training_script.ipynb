{
 "cells": [
  {
   "cell_type": "code",
   "execution_count": 1,
   "metadata": {},
   "outputs": [],
   "source": [
    "import os\n",
    "import sys\n",
    "from pathlib import Path\n",
    "import json"
   ]
  },
  {
   "cell_type": "code",
   "execution_count": 2,
   "metadata": {},
   "outputs": [],
   "source": [
    "def old_train_command(obj_det_dir, train_dir, config): \n",
    "    cmd = 'python {}/train.py '.format(obj_det_dir)\n",
    "    cmd+= '--train_dir={} '.format(train_dir)\n",
    "    cmd+= '--pipeline_config_path={} '.format(config)\n",
    "    cmd+= '--logtostderr'\n",
    "    \n",
    "    return cmd\n",
    "\n",
    "def train_command(obj_det_dir, config, model_dir, train_steps=-1, eval_steps=-1):\n",
    "    cmd = 'python {}/model_main.py '.format(obj_det_dir)\n",
    "    cmd+= '--pipeline_config_path={} '.format(config)\n",
    "    cmd+= '--model_dir={} '.format(model_dir)\n",
    "    if train_steps > -1: \n",
    "        cmd+= '--num_train_steps={} '.format(train_steps)\n",
    "    if eval_steps > -1:\n",
    "        cmd+= '--num_eval_steps={} '.format(eval_steps)\n",
    "    cmd+= '--alsologtostderr'\n",
    "    \n",
    "    return cmd\n",
    "\n",
    "def check_paths(obj_det, train_dir, cfg_file): \n",
    "    print('obj_det:'.ljust(30), Path(obj_det).is_dir())\n",
    "    print('train_dir:'.ljust(30), Path(train_dir).is_dir())\n",
    "    print('cfg_file:'.ljust(30), Path(cfg_file).exists())\n",
    "    \n",
    "    return Path(obj_det).is_dir() and Path(train_dir).is_dir() and Path(cfg_file).exists()"
   ]
  },
  {
   "cell_type": "code",
   "execution_count": null,
   "metadata": {},
   "outputs": [],
   "source": [
    "obj_det = '' # path_to_tensorflow_object_detection_dir\n",
    "train_dir = '' # path_to_training_output_dir\n",
    "cfg_file = '' # path_to_training_config_file\n",
    "\n",
    "if check_paths(obj_det, train_dir, cfg_file):\n",
    "    os.system(tran_command(obj_det, train_dir, cfg_file))"
   ]
  }
 ],
 "metadata": {
  "kernelspec": {
   "display_name": "Python 3",
   "language": "python",
   "name": "python3"
  },
  "language_info": {
   "codemirror_mode": {
    "name": "ipython",
    "version": 3
   },
   "file_extension": ".py",
   "mimetype": "text/x-python",
   "name": "python",
   "nbconvert_exporter": "python",
   "pygments_lexer": "ipython3",
   "version": "3.6.5"
  }
 },
 "nbformat": 4,
 "nbformat_minor": 2
}
